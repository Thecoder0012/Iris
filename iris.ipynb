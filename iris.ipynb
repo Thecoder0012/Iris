{
  "nbformat": 4,
  "nbformat_minor": 0,
  "metadata": {
    "colab": {
      "provenance": [],
      "authorship_tag": "ABX9TyMBprEZoyJurw64kdEay/L+",
      "include_colab_link": true
    },
    "kernelspec": {
      "name": "python3",
      "display_name": "Python 3"
    },
    "language_info": {
      "name": "python"
    }
  },
  "cells": [
    {
      "cell_type": "markdown",
      "metadata": {
        "id": "view-in-github",
        "colab_type": "text"
      },
      "source": [
        "<a href=\"https://colab.research.google.com/github/Thecoder0012/Iris/blob/master/iris.ipynb\" target=\"_parent\"><img src=\"https://colab.research.google.com/assets/colab-badge.svg\" alt=\"Open In Colab\"/></a>"
      ]
    },
    {
      "cell_type": "code",
      "execution_count": 94,
      "metadata": {
        "id": "yifvOWm8Wq7q"
      },
      "outputs": [],
      "source": [
        "# necessary imports (numpy,keras etc.)\n",
        "import numpy as np\n",
        "import pandas as pd\n",
        "import tensorflow as tf\n",
        "from tensorflow import keras\n",
        "from keras.layers import Dense, Activation\n",
        "from keras.models import Sequential, load_model\n",
        "from keras import optimizers"
      ]
    },
    {
      "cell_type": "code",
      "source": [
        "# Define columns and read file\n",
        "column_names = ['sepal-length', 'sepal-width', 'petal-length', 'petal-width', 'class']\n",
        "csv_file = 'iris.csv'\n",
        "df = pd.read_csv(csv_file, names=column_names)\n",
        "\n",
        "# Replace the class values with integers.\n",
        "flower_names = ['Iris-setosa', 'Iris-versicolor', 'Iris-virginica']\n",
        "flower_integers = [0,1,2]\n",
        "df['class'] = df['class'].replace(flower_names, flower_integers)\n",
        "\n"
      ],
      "metadata": {
        "id": "-nHY0MadCX3x"
      },
      "execution_count": 95,
      "outputs": []
    },
    {
      "cell_type": "code",
      "source": [
        "# Display all rows\n",
        "pd.options.display.max_rows = None\n",
        "pd.options.display.max_columns = None\n",
        "\n",
        "# Split the dataset into input (X) and output (y) variables.\n",
        "# Returns numpy array after .values.\n",
        "x = df.iloc[:, :-1].values\n",
        "y = df.iloc[:, -1].values\n"
      ],
      "metadata": {
        "id": "jKUyGfQqovsl"
      },
      "execution_count": 96,
      "outputs": []
    },
    {
      "cell_type": "code",
      "source": [
        "# Define the model.\n",
        "model = Sequential([\n",
        "  Dense(10, activation='relu', input_dim=4,use_bias=True),\n",
        "  Dense(3, activation='softmax',use_bias=True)\n",
        "])\n",
        "\n",
        "# Compile the model\n",
        "adam = optimizers.Adam(learning_rate=0.01)\n",
        "model.compile(optimizer=adam,\n",
        "              loss='sparse_categorical_crossentropy')\n",
        "\n",
        "# train dataset\n",
        "model.fit(x, y, epochs=500, batch_size=4,verbose=0)"
      ],
      "metadata": {
        "id": "bVbfXY03ozxC"
      },
      "execution_count": null,
      "outputs": []
    },
    {
      "cell_type": "code",
      "source": [
        "# Make predictions on new data\n",
        "# sample data with 10 rows minus the last column\n",
        "input_data = df.sample(20).iloc[:, :-1].values\n",
        "df_data = pd.DataFrame(input_data)  # Create new data to predict\n",
        "prediction = model.predict(df_data)\n",
        "prediction = np.round(prediction, decimals=3)\n",
        "print('Prediction:',prediction)\n",
        "\n",
        "# index in array 0-2\n",
        "for i in prediction:\n",
        "  print(i.argmax())"
      ],
      "metadata": {
        "id": "5ESbqMobkqbz",
        "colab": {
          "base_uri": "https://localhost:8080/"
        },
        "outputId": "dd747d9c-1bfd-4643-a020-5de6ec79cd88"
      },
      "execution_count": 102,
      "outputs": [
        {
          "output_type": "stream",
          "name": "stdout",
          "text": [
            "1/1 [==============================] - 0s 21ms/step\n",
            "Prediction: [[0.    0.142 0.858]\n",
            " [0.    0.046 0.954]\n",
            " [1.    0.    0.   ]\n",
            " [0.    0.    1.   ]\n",
            " [1.    0.    0.   ]\n",
            " [1.    0.    0.   ]\n",
            " [0.    0.021 0.979]\n",
            " [0.    0.998 0.002]\n",
            " [0.    0.999 0.   ]\n",
            " [0.    0.011 0.989]\n",
            " [1.    0.    0.   ]\n",
            " [0.002 0.998 0.   ]\n",
            " [1.    0.    0.   ]\n",
            " [1.    0.    0.   ]\n",
            " [0.    0.993 0.007]\n",
            " [0.001 0.999 0.   ]\n",
            " [1.    0.    0.   ]\n",
            " [0.    0.    1.   ]\n",
            " [0.    0.    1.   ]\n",
            " [0.    0.01  0.99 ]]\n",
            "2\n",
            "2\n",
            "0\n",
            "2\n",
            "0\n",
            "0\n",
            "2\n",
            "1\n",
            "1\n",
            "2\n",
            "0\n",
            "1\n",
            "0\n",
            "0\n",
            "1\n",
            "1\n",
            "0\n",
            "2\n",
            "2\n",
            "2\n"
          ]
        }
      ]
    },
    {
      "cell_type": "code",
      "source": [
        "# save model\n",
        "model.save(\"iris.h5\")"
      ],
      "metadata": {
        "id": "29ewn1AqrvO2"
      },
      "execution_count": 99,
      "outputs": []
    }
  ]
}